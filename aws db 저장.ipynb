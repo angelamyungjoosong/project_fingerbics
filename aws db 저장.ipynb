{
 "cells": [
  {
   "cell_type": "code",
   "execution_count": 4,
   "id": "c6ca4795-cf4f-4dda-9423-f56eb73c1756",
   "metadata": {},
   "outputs": [
    {
     "name": "stdout",
     "output_type": "stream",
     "text": [
      "Requirement already satisfied: pymysql in c:\\users\\user\\appdata\\local\\programs\\python\\python311\\lib\\site-packages (1.1.0)\n",
      "Note: you may need to restart the kernel to use updated packages.\n"
     ]
    },
    {
     "name": "stderr",
     "output_type": "stream",
     "text": [
      "\n",
      "[notice] A new release of pip is available: 23.2.1 -> 24.0\n",
      "[notice] To update, run: python.exe -m pip install --upgrade pip\n"
     ]
    }
   ],
   "source": [
    "pip install pymysql"
   ]
  },
  {
   "cell_type": "markdown",
   "id": "3669e60f-a571-4d76-9948-a83f3741b3c6",
   "metadata": {},
   "source": [
    "## 데이터 테이블 생성"
   ]
  },
  {
   "cell_type": "code",
   "execution_count": 17,
   "id": "b6a41f96-7b4c-470e-86c3-6037a2eb26f6",
   "metadata": {},
   "outputs": [
    {
     "name": "stdout",
     "output_type": "stream",
     "text": [
      "Table 'users' created successfully!\n"
     ]
    }
   ],
   "source": [
    "import pymysql\n",
    "\n",
    "# MySQL 연결 정보\n",
    "HOST = 'database-1.cje86assyv2g.ap-northeast-2.rds.amazonaws.com'\n",
    "USER = 'admin'\n",
    "PASSWORD = 'sessac123'\n",
    "DATABASE = 'databse12'\n",
    "\n",
    "# 데이터베이스 연결\n",
    "conn = pymysql.connect(host=HOST, user=USER, password=PASSWORD, database=DATABASE)\n",
    "cursor = conn.cursor()\n",
    "\n",
    "# 테이블 생성 쿼리\n",
    "create_table_query = '''\n",
    "CREATE TABLE users (\n",
    "  id INT AUTO_INCREMENT PRIMARY KEY,\n",
    "  success_count1 INT(11) NOT NULL,\n",
    "  success_count2 INT(11) NOT NULL,\n",
    "  success_count3 INT(11) NOT NULL\n",
    ")\n",
    "\n",
    "'''\n",
    "try:\n",
    "    # 쿼리 실행\n",
    "    cursor.execute(create_table_query)\n",
    "    print(\"Table 'users' created successfully!\")\n",
    "except pymysql.Error as e:\n",
    "    print(f\"Error creating table: {e}\")\n",
    "\n",
    "# 연결 종료\n",
    "conn.close()\n",
    "\n"
   ]
  },
  {
   "cell_type": "markdown",
   "id": "6b593559-f3b5-4574-8bf4-324f66d8c474",
   "metadata": {},
   "source": [
    "## 데이터 테이블 df로 확인"
   ]
  },
  {
   "cell_type": "code",
   "execution_count": 21,
   "id": "1e209a23-513c-4333-89ca-ca61ad292b91",
   "metadata": {
    "scrolled": true
   },
   "outputs": [
    {
     "name": "stdout",
     "output_type": "stream",
     "text": [
      "   id  success_count1  success_count2  success_count3\n",
      "0   1              10              20              30\n",
      "1   2              15              25              35\n",
      "2   3              12              22              32\n"
     ]
    },
    {
     "name": "stderr",
     "output_type": "stream",
     "text": [
      "C:\\Users\\user\\AppData\\Local\\Temp\\ipykernel_17140\\2325509821.py:18: UserWarning: pandas only supports SQLAlchemy connectable (engine/connection) or database string URI or sqlite3 DBAPI2 connection. Other DBAPI2 objects are not tested. Please consider using SQLAlchemy.\n",
      "  df = pd.read_sql(query, conn)\n"
     ]
    }
   ],
   "source": [
    "import pymysql\n",
    "import pandas as pd\n",
    "\n",
    "# MySQL 연결 정보\n",
    "HOST = 'database-1.cje86assyv2g.ap-northeast-2.rds.amazonaws.com'\n",
    "USER = 'admin'\n",
    "PASSWORD = 'sessac123'\n",
    "DATABASE = 'databse12'\n",
    "\n",
    "# 데이터베이스 연결\n",
    "conn = pymysql.connect(host=HOST, user=USER, password=PASSWORD, database=DATABASE)\n",
    "\n",
    "# SQL 쿼리\n",
    "query = \"SELECT * FROM users\"\n",
    "\n",
    "try:\n",
    "    # 쿼리 실행하여 데이터프레임으로 가져오기\n",
    "    df = pd.read_sql(query, conn)\n",
    "    \n",
    "    # 결과 출력\n",
    "    print(df)\n",
    "\n",
    "except pymysql.Error as e:\n",
    "    print(f\"Error executing query: {e}\")\n",
    "\n",
    "# 연결 종료\n",
    "conn.close()\n"
   ]
  },
  {
   "cell_type": "markdown",
   "id": "a2522b93-9095-4da6-be69-117ec9cf7176",
   "metadata": {},
   "source": [
    "## 테이터 테이블에 데이터 삽임"
   ]
  },
  {
   "cell_type": "code",
   "execution_count": 20,
   "id": "b2c4b1c6-abad-49f0-8dbb-970ecb2d2575",
   "metadata": {},
   "outputs": [
    {
     "name": "stdout",
     "output_type": "stream",
     "text": [
      "Data inserted successfully!\n"
     ]
    }
   ],
   "source": [
    "import pymysql\n",
    "\n",
    "# MySQL 연결 정보\n",
    "HOST = 'database-1.cje86assyv2g.ap-northeast-2.rds.amazonaws.com'\n",
    "USER = 'admin'\n",
    "PASSWORD = 'sessac123'\n",
    "DATABASE = 'databse12'\n",
    "\n",
    "# 데이터베이스 연결\n",
    "conn = pymysql.connect(host=HOST, user=USER, password=PASSWORD, database=DATABASE)\n",
    "cursor = conn.cursor()\n",
    "\n",
    "# 삽입할 데이터\n",
    "data_to_insert = [\n",
    "    ( '10', '20', '30'),\n",
    "    ( '15', '25', '35'),\n",
    "    ( '12', '22', '32')\n",
    "]\n",
    "\n",
    "# 삽입 쿼리\n",
    "insert_query = \"INSERT INTO users (success_count1, success_count2, success_count3) VALUES ( %s, %s, %s)\"\n",
    "\n",
    "try:\n",
    "    # 데이터 삽입\n",
    "    cursor.executemany(insert_query, data_to_insert)\n",
    "    \n",
    "    # 변경사항 커밋\n",
    "    conn.commit()\n",
    "    \n",
    "    print(\"Data inserted successfully!\")\n",
    "except pymysql.Error as e:\n",
    "    # 변경사항 롤백\n",
    "    conn.rollback()\n",
    "    print(f\"Error inserting data: {e}\")\n",
    "\n",
    "# 연결 종료\n",
    "conn.close()\n"
   ]
  },
  {
   "cell_type": "markdown",
   "id": "1482f699-cf81-4eaa-8bbb-37479dc3a248",
   "metadata": {},
   "source": [
    "## 테이터 테이블 지우기"
   ]
  },
  {
   "cell_type": "code",
   "execution_count": 11,
   "id": "f13f5e74-f70e-4f97-884f-10ea45574dda",
   "metadata": {},
   "outputs": [
    {
     "name": "stdout",
     "output_type": "stream",
     "text": [
      "Table 'users' dropped successfully!\n"
     ]
    }
   ],
   "source": [
    "import pymysql\n",
    "\n",
    "# MySQL 연결 정보\n",
    "HOST = 'database-1.cje86assyv2g.ap-northeast-2.rds.amazonaws.com'\n",
    "USER = 'admin'\n",
    "PASSWORD = 'sessac123'\n",
    "DATABASE = 'databse12'\n",
    "\n",
    "# 데이터베이스 연결\n",
    "conn = pymysql.connect(host=HOST, user=USER, password=PASSWORD, database=DATABASE)\n",
    "cursor = conn.cursor()\n",
    "\n",
    "# 삭제할 테이블 이름\n",
    "table_name = 'users'\n",
    "\n",
    "# 테이블 삭제 쿼리\n",
    "drop_table_query = f\"DROP TABLE IF EXISTS {table_name}\"\n",
    "\n",
    "try:\n",
    "    # 쿼리 실행\n",
    "    cursor.execute(drop_table_query)\n",
    "    print(f\"Table '{table_name}' dropped successfully!\")\n",
    "except pymysql.Error as e:\n",
    "    print(f\"Error dropping table: {e}\")\n",
    "\n",
    "# 연결 종료\n",
    "conn.close()\n"
   ]
  },
  {
   "cell_type": "code",
   "execution_count": null,
   "id": "62830d09-635c-4c81-b3ba-1899504befab",
   "metadata": {},
   "outputs": [],
   "source": [
    "from flask import Flask, jsonify\n",
    "\n",
    "import pymysql\n",
    "\n",
    "app = Flask(__name__)\n",
    "\n",
    "# MySQL 연결 정보\n",
    "HOST = 'database-1.cje86assyv2g.ap-northeast-2.rds.amazonaws.com'\n",
    "USER = 'admin'\n",
    "PASSWORD = 'sessac123'\n",
    "DATABASE = 'databse12'\n",
    "        conn = pymysql.connect(host=HOST, user=USER, password=PASSWORD, database=DATABASE)\n",
    "        cursor = conn.cursor()\n",
    "@app.route('/insert_data')\n",
    "def insert_data():\n",
    "    try:\n",
    "        # 데이터베이스 연결\n",
    "        conn = pymysql.connect(host=HOST, user=USER, password=PASSWORD, database=DATABASE)\n",
    "        cursor = conn.cursor()\n",
    "        data_to_insert = [\n",
    "            ('10', '20', '30'),\n",
    "            ('15', '25', '35'),\n",
    "            ('12', '22', '32')\n",
    "        ]\n",
    "        \n",
    "        # 삽입 쿼리\n",
    "        insert_query = \"INSERT INTO users ( success_count1, success_count2, success_count3) VALUES ( %s, %s, %s)\"\n",
    "        # 데이터 삽입\n",
    "        cursor.executemany(insert_query, data_to_insert)\n",
    "        \n",
    "        # 변경사항 커밋\n",
    "        conn.commit()\n",
    "        \n",
    "        return jsonify({\"message\": \"Data inserted successfully!\"}), 200\n",
    "    except pymysql.Error as e:\n",
    "        # 변경사항 롤백\n",
    "        if 'conn' in locals():\n",
    "            conn.rollback()\n",
    "        return jsonify({\"error\": f\"Error inserting data: {e}\"}), 500\n",
    "    finally:\n",
    "        # 연결 종료\n",
    "        if 'conn' in locals():\n",
    "            conn.close()\n",
    "\n",
    "if __name__ == '__main__':\n",
    "    app.run(debug=True)\n"
   ]
  }
 ],
 "metadata": {
  "kernelspec": {
   "display_name": "Python 3 (ipykernel)",
   "language": "python",
   "name": "python3"
  },
  "language_info": {
   "codemirror_mode": {
    "name": "ipython",
    "version": 3
   },
   "file_extension": ".py",
   "mimetype": "text/x-python",
   "name": "python",
   "nbconvert_exporter": "python",
   "pygments_lexer": "ipython3",
   "version": "3.11.7"
  }
 },
 "nbformat": 4,
 "nbformat_minor": 5
}
